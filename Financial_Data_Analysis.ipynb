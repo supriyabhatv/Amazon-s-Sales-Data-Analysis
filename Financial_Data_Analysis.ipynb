{
  "nbformat": 4,
  "nbformat_minor": 0,
  "metadata": {
    "colab": {
      "provenance": []
    },
    "kernelspec": {
      "name": "python3",
      "display_name": "Python 3"
    },
    "language_info": {
      "name": "python"
    }
  },
  "cells": [
    {
      "cell_type": "code",
      "execution_count": null,
      "metadata": {
        "id": "sSdWpw_I2Yjf"
      },
      "outputs": [],
      "source": [
        "import pandas as pd\n",
        "import matplotlib.pyplot as plt\n",
        "import seaborn as sns\n",
        "import numpy as np\n",
        "from sklearn.model_selection import train_test_split\n",
        "from sklearn.linear_model import LinearRegression\n",
        "from sklearn import metrics"
      ]
    },
    {
      "cell_type": "code",
      "source": [
        "# Load the DataSet\n",
        "Data=pd.read_csv(\"/content/Financial Analytics data.csv\")"
      ],
      "metadata": {
        "id": "-xRyWs0470XB"
      },
      "execution_count": null,
      "outputs": []
    },
    {
      "cell_type": "code",
      "source": [
        "# Check for missing or inconsistent data\n",
        "print(Data.isnull().sum())"
      ],
      "metadata": {
        "colab": {
          "base_uri": "https://localhost:8080/"
        },
        "id": "JsKBpWmM8MDP",
        "outputId": "f1e61290-8e47-49e3-d19c-b16dab64a167"
      },
      "execution_count": null,
      "outputs": [
        {
          "output_type": "stream",
          "name": "stdout",
          "text": [
            "S.No.              0\n",
            "Name               0\n",
            "Mar_Cap_Crore      0\n",
            "Sales_Qtr_Crore    0\n",
            "dtype: int64\n"
          ]
        }
      ]
    },
    {
      "cell_type": "code",
      "source": [
        "#Descriptive Statistics\n",
        "Data.describe()"
      ],
      "metadata": {
        "colab": {
          "base_uri": "https://localhost:8080/",
          "height": 300
        },
        "id": "aJPexmqp8S8Y",
        "outputId": "e76f59b7-3e6b-4d41-9ac8-48e801817875"
      },
      "execution_count": null,
      "outputs": [
        {
          "output_type": "execute_result",
          "data": {
            "text/plain": [
              "            S.No.  Mar_Cap_Crore  Sales_Qtr_Crore\n",
              "count  488.000000     488.000000       488.000000\n",
              "mean   251.508197   28043.856988      3815.970225\n",
              "std    145.884078   58912.585788      9685.966854\n",
              "min      1.000000    3017.070000         0.000000\n",
              "25%    122.750000    4879.612500       576.675000\n",
              "50%    252.500000   10380.425000      1278.520000\n",
              "75%    378.250000   25502.085000      3803.107500\n",
              "max    500.000000  583436.720000    110666.930000"
            ],
            "text/html": [
              "\n",
              "  <div id=\"df-2e4c543e-ca23-4380-802c-9bdd6121eee5\" class=\"colab-df-container\">\n",
              "    <div>\n",
              "<style scoped>\n",
              "    .dataframe tbody tr th:only-of-type {\n",
              "        vertical-align: middle;\n",
              "    }\n",
              "\n",
              "    .dataframe tbody tr th {\n",
              "        vertical-align: top;\n",
              "    }\n",
              "\n",
              "    .dataframe thead th {\n",
              "        text-align: right;\n",
              "    }\n",
              "</style>\n",
              "<table border=\"1\" class=\"dataframe\">\n",
              "  <thead>\n",
              "    <tr style=\"text-align: right;\">\n",
              "      <th></th>\n",
              "      <th>S.No.</th>\n",
              "      <th>Mar_Cap_Crore</th>\n",
              "      <th>Sales_Qtr_Crore</th>\n",
              "    </tr>\n",
              "  </thead>\n",
              "  <tbody>\n",
              "    <tr>\n",
              "      <th>count</th>\n",
              "      <td>488.000000</td>\n",
              "      <td>488.000000</td>\n",
              "      <td>488.000000</td>\n",
              "    </tr>\n",
              "    <tr>\n",
              "      <th>mean</th>\n",
              "      <td>251.508197</td>\n",
              "      <td>28043.856988</td>\n",
              "      <td>3815.970225</td>\n",
              "    </tr>\n",
              "    <tr>\n",
              "      <th>std</th>\n",
              "      <td>145.884078</td>\n",
              "      <td>58912.585788</td>\n",
              "      <td>9685.966854</td>\n",
              "    </tr>\n",
              "    <tr>\n",
              "      <th>min</th>\n",
              "      <td>1.000000</td>\n",
              "      <td>3017.070000</td>\n",
              "      <td>0.000000</td>\n",
              "    </tr>\n",
              "    <tr>\n",
              "      <th>25%</th>\n",
              "      <td>122.750000</td>\n",
              "      <td>4879.612500</td>\n",
              "      <td>576.675000</td>\n",
              "    </tr>\n",
              "    <tr>\n",
              "      <th>50%</th>\n",
              "      <td>252.500000</td>\n",
              "      <td>10380.425000</td>\n",
              "      <td>1278.520000</td>\n",
              "    </tr>\n",
              "    <tr>\n",
              "      <th>75%</th>\n",
              "      <td>378.250000</td>\n",
              "      <td>25502.085000</td>\n",
              "      <td>3803.107500</td>\n",
              "    </tr>\n",
              "    <tr>\n",
              "      <th>max</th>\n",
              "      <td>500.000000</td>\n",
              "      <td>583436.720000</td>\n",
              "      <td>110666.930000</td>\n",
              "    </tr>\n",
              "  </tbody>\n",
              "</table>\n",
              "</div>\n",
              "    <div class=\"colab-df-buttons\">\n",
              "\n",
              "  <div class=\"colab-df-container\">\n",
              "    <button class=\"colab-df-convert\" onclick=\"convertToInteractive('df-2e4c543e-ca23-4380-802c-9bdd6121eee5')\"\n",
              "            title=\"Convert this dataframe to an interactive table.\"\n",
              "            style=\"display:none;\">\n",
              "\n",
              "  <svg xmlns=\"http://www.w3.org/2000/svg\" height=\"24px\" viewBox=\"0 -960 960 960\">\n",
              "    <path d=\"M120-120v-720h720v720H120Zm60-500h600v-160H180v160Zm220 220h160v-160H400v160Zm0 220h160v-160H400v160ZM180-400h160v-160H180v160Zm440 0h160v-160H620v160ZM180-180h160v-160H180v160Zm440 0h160v-160H620v160Z\"/>\n",
              "  </svg>\n",
              "    </button>\n",
              "\n",
              "  <style>\n",
              "    .colab-df-container {\n",
              "      display:flex;\n",
              "      gap: 12px;\n",
              "    }\n",
              "\n",
              "    .colab-df-convert {\n",
              "      background-color: #E8F0FE;\n",
              "      border: none;\n",
              "      border-radius: 50%;\n",
              "      cursor: pointer;\n",
              "      display: none;\n",
              "      fill: #1967D2;\n",
              "      height: 32px;\n",
              "      padding: 0 0 0 0;\n",
              "      width: 32px;\n",
              "    }\n",
              "\n",
              "    .colab-df-convert:hover {\n",
              "      background-color: #E2EBFA;\n",
              "      box-shadow: 0px 1px 2px rgba(60, 64, 67, 0.3), 0px 1px 3px 1px rgba(60, 64, 67, 0.15);\n",
              "      fill: #174EA6;\n",
              "    }\n",
              "\n",
              "    .colab-df-buttons div {\n",
              "      margin-bottom: 4px;\n",
              "    }\n",
              "\n",
              "    [theme=dark] .colab-df-convert {\n",
              "      background-color: #3B4455;\n",
              "      fill: #D2E3FC;\n",
              "    }\n",
              "\n",
              "    [theme=dark] .colab-df-convert:hover {\n",
              "      background-color: #434B5C;\n",
              "      box-shadow: 0px 1px 3px 1px rgba(0, 0, 0, 0.15);\n",
              "      filter: drop-shadow(0px 1px 2px rgba(0, 0, 0, 0.3));\n",
              "      fill: #FFFFFF;\n",
              "    }\n",
              "  </style>\n",
              "\n",
              "    <script>\n",
              "      const buttonEl =\n",
              "        document.querySelector('#df-2e4c543e-ca23-4380-802c-9bdd6121eee5 button.colab-df-convert');\n",
              "      buttonEl.style.display =\n",
              "        google.colab.kernel.accessAllowed ? 'block' : 'none';\n",
              "\n",
              "      async function convertToInteractive(key) {\n",
              "        const element = document.querySelector('#df-2e4c543e-ca23-4380-802c-9bdd6121eee5');\n",
              "        const dataTable =\n",
              "          await google.colab.kernel.invokeFunction('convertToInteractive',\n",
              "                                                    [key], {});\n",
              "        if (!dataTable) return;\n",
              "\n",
              "        const docLinkHtml = 'Like what you see? Visit the ' +\n",
              "          '<a target=\"_blank\" href=https://colab.research.google.com/notebooks/data_table.ipynb>data table notebook</a>'\n",
              "          + ' to learn more about interactive tables.';\n",
              "        element.innerHTML = '';\n",
              "        dataTable['output_type'] = 'display_data';\n",
              "        await google.colab.output.renderOutput(dataTable, element);\n",
              "        const docLink = document.createElement('div');\n",
              "        docLink.innerHTML = docLinkHtml;\n",
              "        element.appendChild(docLink);\n",
              "      }\n",
              "    </script>\n",
              "  </div>\n",
              "\n",
              "\n",
              "<div id=\"df-9159bc34-b6c3-4709-be9f-956297a10704\">\n",
              "  <button class=\"colab-df-quickchart\" onclick=\"quickchart('df-9159bc34-b6c3-4709-be9f-956297a10704')\"\n",
              "            title=\"Suggest charts.\"\n",
              "            style=\"display:none;\">\n",
              "\n",
              "<svg xmlns=\"http://www.w3.org/2000/svg\" height=\"24px\"viewBox=\"0 0 24 24\"\n",
              "     width=\"24px\">\n",
              "    <g>\n",
              "        <path d=\"M19 3H5c-1.1 0-2 .9-2 2v14c0 1.1.9 2 2 2h14c1.1 0 2-.9 2-2V5c0-1.1-.9-2-2-2zM9 17H7v-7h2v7zm4 0h-2V7h2v10zm4 0h-2v-4h2v4z\"/>\n",
              "    </g>\n",
              "</svg>\n",
              "  </button>\n",
              "\n",
              "<style>\n",
              "  .colab-df-quickchart {\n",
              "      --bg-color: #E8F0FE;\n",
              "      --fill-color: #1967D2;\n",
              "      --hover-bg-color: #E2EBFA;\n",
              "      --hover-fill-color: #174EA6;\n",
              "      --disabled-fill-color: #AAA;\n",
              "      --disabled-bg-color: #DDD;\n",
              "  }\n",
              "\n",
              "  [theme=dark] .colab-df-quickchart {\n",
              "      --bg-color: #3B4455;\n",
              "      --fill-color: #D2E3FC;\n",
              "      --hover-bg-color: #434B5C;\n",
              "      --hover-fill-color: #FFFFFF;\n",
              "      --disabled-bg-color: #3B4455;\n",
              "      --disabled-fill-color: #666;\n",
              "  }\n",
              "\n",
              "  .colab-df-quickchart {\n",
              "    background-color: var(--bg-color);\n",
              "    border: none;\n",
              "    border-radius: 50%;\n",
              "    cursor: pointer;\n",
              "    display: none;\n",
              "    fill: var(--fill-color);\n",
              "    height: 32px;\n",
              "    padding: 0;\n",
              "    width: 32px;\n",
              "  }\n",
              "\n",
              "  .colab-df-quickchart:hover {\n",
              "    background-color: var(--hover-bg-color);\n",
              "    box-shadow: 0 1px 2px rgba(60, 64, 67, 0.3), 0 1px 3px 1px rgba(60, 64, 67, 0.15);\n",
              "    fill: var(--button-hover-fill-color);\n",
              "  }\n",
              "\n",
              "  .colab-df-quickchart-complete:disabled,\n",
              "  .colab-df-quickchart-complete:disabled:hover {\n",
              "    background-color: var(--disabled-bg-color);\n",
              "    fill: var(--disabled-fill-color);\n",
              "    box-shadow: none;\n",
              "  }\n",
              "\n",
              "  .colab-df-spinner {\n",
              "    border: 2px solid var(--fill-color);\n",
              "    border-color: transparent;\n",
              "    border-bottom-color: var(--fill-color);\n",
              "    animation:\n",
              "      spin 1s steps(1) infinite;\n",
              "  }\n",
              "\n",
              "  @keyframes spin {\n",
              "    0% {\n",
              "      border-color: transparent;\n",
              "      border-bottom-color: var(--fill-color);\n",
              "      border-left-color: var(--fill-color);\n",
              "    }\n",
              "    20% {\n",
              "      border-color: transparent;\n",
              "      border-left-color: var(--fill-color);\n",
              "      border-top-color: var(--fill-color);\n",
              "    }\n",
              "    30% {\n",
              "      border-color: transparent;\n",
              "      border-left-color: var(--fill-color);\n",
              "      border-top-color: var(--fill-color);\n",
              "      border-right-color: var(--fill-color);\n",
              "    }\n",
              "    40% {\n",
              "      border-color: transparent;\n",
              "      border-right-color: var(--fill-color);\n",
              "      border-top-color: var(--fill-color);\n",
              "    }\n",
              "    60% {\n",
              "      border-color: transparent;\n",
              "      border-right-color: var(--fill-color);\n",
              "    }\n",
              "    80% {\n",
              "      border-color: transparent;\n",
              "      border-right-color: var(--fill-color);\n",
              "      border-bottom-color: var(--fill-color);\n",
              "    }\n",
              "    90% {\n",
              "      border-color: transparent;\n",
              "      border-bottom-color: var(--fill-color);\n",
              "    }\n",
              "  }\n",
              "</style>\n",
              "\n",
              "  <script>\n",
              "    async function quickchart(key) {\n",
              "      const quickchartButtonEl =\n",
              "        document.querySelector('#' + key + ' button');\n",
              "      quickchartButtonEl.disabled = true;  // To prevent multiple clicks.\n",
              "      quickchartButtonEl.classList.add('colab-df-spinner');\n",
              "      try {\n",
              "        const charts = await google.colab.kernel.invokeFunction(\n",
              "            'suggestCharts', [key], {});\n",
              "      } catch (error) {\n",
              "        console.error('Error during call to suggestCharts:', error);\n",
              "      }\n",
              "      quickchartButtonEl.classList.remove('colab-df-spinner');\n",
              "      quickchartButtonEl.classList.add('colab-df-quickchart-complete');\n",
              "    }\n",
              "    (() => {\n",
              "      let quickchartButtonEl =\n",
              "        document.querySelector('#df-9159bc34-b6c3-4709-be9f-956297a10704 button');\n",
              "      quickchartButtonEl.style.display =\n",
              "        google.colab.kernel.accessAllowed ? 'block' : 'none';\n",
              "    })();\n",
              "  </script>\n",
              "</div>\n",
              "    </div>\n",
              "  </div>\n"
            ]
          },
          "metadata": {},
          "execution_count": 4
        }
      ]
    },
    {
      "cell_type": "code",
      "source": [
        "print(Data.columns)\n"
      ],
      "metadata": {
        "colab": {
          "base_uri": "https://localhost:8080/"
        },
        "id": "kiQecemS-KV7",
        "outputId": "32ce0b96-eeac-4d9f-a634-c13d409f0590"
      },
      "execution_count": null,
      "outputs": [
        {
          "output_type": "stream",
          "name": "stdout",
          "text": [
            "Index(['S.No.', 'Name', 'Mar_Cap_Crore', 'Sales_Qtr_Crore'], dtype='object')\n"
          ]
        }
      ]
    },
    {
      "cell_type": "code",
      "source": [
        "# Data Visualization\n",
        "sns.scatterplot(x='Sales_Qtr_Crore', y='Mar_Cap_Crore', data=Data)\n",
        "plt.title('Relationship between Sales and Market Capitalization')\n",
        "plt.show()\n"
      ],
      "metadata": {
        "colab": {
          "base_uri": "https://localhost:8080/",
          "height": 472
        },
        "id": "Zv_rrAH7AHxZ",
        "outputId": "9a2b43e3-7239-44d6-83d1-40f70806ccbd"
      },
      "execution_count": null,
      "outputs": [
        {
          "output_type": "display_data",
          "data": {
            "text/plain": [
              "<Figure size 640x480 with 1 Axes>"
            ],
            "image/png": "[encoded data removed]"
          },
          "metadata": {}
        }
      ]
    },
    {
      "cell_type": "markdown",
      "source": [
        "When examining a scatter plot between sales and market capitalization, market capitalization is more when sales are between 0-20000 crores!\n",
        "\n",
        "Dense clusters of points in certain areas of the scatter plot, it indicates that many companies have similar sales and market capitalization values. This suggests a common trend or a typical relationship between sales and market capitalization among those companies."
      ],
      "metadata": {
        "id": "tKbd4kLzRFbw"
      }
    },
    {
      "cell_type": "code",
      "source": [
        "# Calculate average market capitalization and sales\n",
        "average_market_cap = Data['Mar_Cap_Crore'].mean()\n",
        "average_sales = Data['Sales_Qtr_Crore'].mean()\n",
        "\n",
        "print(f'Average Market Capitalization: {average_market_cap}')\n",
        "print(f'Average Quarterly Sales: {average_sales}')\n"
      ],
      "metadata": {
        "colab": {
          "base_uri": "https://localhost:8080/"
        },
        "id": "4JDGCxJBEx7P",
        "outputId": "e81eec3c-53bd-4d8f-eb02-958f55beae0d"
      },
      "execution_count": null,
      "outputs": [
        {
          "output_type": "stream",
          "name": "stdout",
          "text": [
            "Average Market Capitalization: 28043.85698770492\n",
            "Average Quarterly Sales: 3815.970225409836\n"
          ]
        }
      ]
    },
    {
      "cell_type": "markdown",
      "source": [
        "The average market capitalization of the top companies in the dataset is approximately ₹28,043.86 crores.\n",
        "\n",
        "The average quarterly sales of the top companies in the dataset amount to approximately ₹3,815.97 crores.\n",
        "\n",
        "The average market capitalization being significantly higher than the average quarterly sales suggests that these companies are valued quite substantially in the market.\n",
        "\n",
        "While the average quarterly sales are considerably lower than the average market capitalization, it's important to note that sales figures can vary widely across different industries and company sizes. Companies with sales values higher than the average are likely performing well in their respective sectors, generating substantial revenue."
      ],
      "metadata": {
        "id": "UzEwZGoeQpso"
      }
    },
    {
      "cell_type": "code",
      "source": [
        "# Calculate correlation coefficient\n",
        "correlation = Data['Mar_Cap_Crore'].corr(Data['Sales_Qtr_Crore'])\n",
        "print(f'Correlation Coefficient: {correlation}')\n"
      ],
      "metadata": {
        "colab": {
          "base_uri": "https://localhost:8080/"
        },
        "id": "4ibifwN3JsNk",
        "outputId": "33e04601-9827-4b8f-9d8f-8cbf11b9a494"
      },
      "execution_count": null,
      "outputs": [
        {
          "output_type": "stream",
          "name": "stdout",
          "text": [
            "Correlation Coefficient: 0.6221932135482856\n"
          ]
        }
      ]
    },
    {
      "cell_type": "markdown",
      "source": [
        "A correlation coefficient of 0.6 signifies a moderate positive relationship between sales and market capitalization. This means that, on average, as sales increase, market capitalization tends to increase as well. However, the relationship is not perfect, indicating that other factors also contribute to the variations observed in market capitalization.\n",
        "\n",
        "\n",
        "\n",
        "\n",
        "\n"
      ],
      "metadata": {
        "id": "yaUrNWtTLr30"
      }
    },
    {
      "cell_type": "code",
      "source": [
        "# Prepare the data for regression\n",
        "X = Data['Sales_Qtr_Crore'].values.reshape(-1, 1)\n",
        "y = Data['Mar_Cap_Crore'].values.reshape(-1, 1)\n",
        "\n",
        "# Split the data into training and testing sets\n",
        "X_train, X_test, y_train, y_test = train_test_split(X, y, test_size=0.2, random_state=0)\n",
        "\n",
        "# Train the model\n",
        "model = LinearRegression()\n",
        "model.fit(X_train, y_train)\n",
        "\n",
        "# Make predictions\n",
        "predictions = model.predict(X_test)\n",
        "\n",
        "# Calculate metrics\n",
        "print('Mean Absolute Error:', metrics.mean_absolute_error(y_test, predictions))\n",
        "print('Mean Squared Error:', metrics.mean_squared_error(y_test, predictions))\n",
        "print('Root Mean Squared Error:', np.sqrt(metrics.mean_squared_error(y_test, predictions)))"
      ],
      "metadata": {
        "colab": {
          "base_uri": "https://localhost:8080/"
        },
        "id": "0tJWKyjnL8ar",
        "outputId": "f99261a0-a6e2-4343-ee5e-6b0e1fdf40ac"
      },
      "execution_count": null,
      "outputs": [
        {
          "output_type": "stream",
          "name": "stdout",
          "text": [
            "Mean Absolute Error: 25705.772908949864\n",
            "Mean Squared Error: 3767705902.685809\n",
            "Root Mean Squared Error: 61381.641414072736\n"
          ]
        }
      ]
    },
    {
      "cell_type": "markdown",
      "source": [
        "1.Mean Absolute Error (MAE):\n",
        "\n",
        "MAE represents the average absolute difference between the predicted and actual values.\n",
        "An MAE of 25705.77 suggests that, on average, the model's predictions are off by approximately ₹25,705.77 crores when estimating market capitalization based on sales.\n",
        "Lower MAE values indicate better accuracy, so a lower MAE would have been preferable. However, the interpretation of what constitutes a \"good\" MAE depends on the context of the data and the industry standards.\n",
        "\n",
        "2.Mean Squared Error (MSE):\n",
        "\n",
        "MSE represents the average of the squared differences between predicted and actual values.\n",
        "MSE of 3767705902.69 indicates that, on average, the squared errors of the model predictions amount to approximately ₹3,767,705,902.69 crores.\n",
        "\n",
        "\n",
        "3.Root Mean Squared Error (RMSE):\n",
        "\n",
        "RMSE is the square root of MSE and provides an interpretable value in the same unit as the dependent variable (market capitalization in crores in this case).\n",
        "An RMSE of 61381.64 crores means that, on average, the model's predictions deviate from the actual market capitalization by approximately ₹61,381.64 crores.\n",
        "\n",
        "\n"
      ],
      "metadata": {
        "id": "cBeUzsbxYZHJ"
      }
    },
    {
      "cell_type": "code",
      "source": [
        "\n",
        "# Find the company with the highest market capitalization\n",
        "highest_market_cap_company = Data.loc[Data['Mar_Cap_Crore'].idxmax()]\n",
        "\n",
        "# Find the company with the lowest market capitalization\n",
        "lowest_market_cap_company = Data.loc[Data['Mar_Cap_Crore'].idxmin()]\n",
        "\n",
        "# Print the results\n",
        "print(\"Company with the Highest Market Capitalization:\")\n",
        "print(highest_market_cap_company)\n",
        "\n",
        "print(\"\\nCompany with the Lowest Market Capitalization:\")\n",
        "print(lowest_market_cap_company)\n"
      ],
      "metadata": {
        "colab": {
          "base_uri": "https://localhost:8080/"
        },
        "id": "qpMp1Sy0aeQE",
        "outputId": "71a161c5-d31a-403f-eb61-ac042e7d0daa"
      },
      "execution_count": null,
      "outputs": [
        {
          "output_type": "stream",
          "name": "stdout",
          "text": [
            "Company with the Highest Market Capitalization:\n",
            "S.No.                           1\n",
            "Name               Reliance Inds.\n",
            "Mar_Cap_Crore           583436.72\n",
            "Sales_Qtr_Crore           99810.0\n",
            "Name: 0, dtype: object\n",
            "\n",
            "Company with the Lowest Market Capitalization:\n",
            "S.No.                          499\n",
            "Name               Natl.Fertilizer\n",
            "Mar_Cap_Crore              3017.07\n",
            "Sales_Qtr_Crore            2840.75\n",
            "Name: 486, dtype: object\n"
          ]
        }
      ]
    },
    {
      "cell_type": "markdown",
      "source": [
        "1.Reliance Industries, with a market capitalization of ₹583,436.72 Crores, stands out as a market leader with a significantly higher valuation compared to National Fertilizer, which has a market capitalization of ₹3,017.07 Crores. This stark difference illustrates the substantial disparity in market capitalization among companies in the dataset.\n",
        "\n",
        "2.Despite the vast difference in market capitalization, Reliance Industries and National Fertilizer have relatively comparable sales figures for the last quarter (₹99,810.00 Crores for Reliance Industries and ₹2,840.75 Crores for National Fertilizer)."
      ],
      "metadata": {
        "id": "3ygwei__cXBk"
      }
    },
    {
      "cell_type": "code",
      "source": [
        "# Find the company with the highest quarterly sales\n",
        "highest_sales_company = Data.loc[Data['Sales_Qtr_Crore'].idxmax()]\n",
        "\n",
        "# Find the company with the lowest quarterly sales\n",
        "lowest_sales_company = Data.loc[Data['Sales_Qtr_Crore'].idxmin()]\n",
        "\n",
        "# Print the results\n",
        "print(\"Company with the Highest Quarterly Sales:\")\n",
        "print(highest_sales_company)\n",
        "\n",
        "print(\"\\nCompany with the Lowest Quarterly Sales:\")\n",
        "print(lowest_sales_company)\n"
      ],
      "metadata": {
        "colab": {
          "base_uri": "https://localhost:8080/"
        },
        "id": "NR29HNejdWgS",
        "outputId": "820cff48-6146-486c-a754-904d8bbbed3a"
      },
      "execution_count": null,
      "outputs": [
        {
          "output_type": "stream",
          "name": "stdout",
          "text": [
            "Company with the Highest Quarterly Sales:\n",
            "S.No.                     15\n",
            "Name                 I O C L\n",
            "Mar_Cap_Crore      178017.48\n",
            "Sales_Qtr_Crore    110666.93\n",
            "Name: 14, dtype: object\n",
            "\n",
            "Company with the Lowest Quarterly Sales:\n",
            "S.No.                           406\n",
            "Name               Ujjivan Fin.Ser.\n",
            "Mar_Cap_Crore               4293.42\n",
            "Sales_Qtr_Crore                 0.0\n",
            "Name: 393, dtype: object\n"
          ]
        }
      ]
    },
    {
      "cell_type": "markdown",
      "source": [
        "1.IOC, a major player in the energy sector, reported substantial quarterly sales of ₹110,666.93 Crores. In contrast, Ujjivan Financial Services reported no sales for the quarter, indicating a unique situation that might require further investigation.\n",
        "\n",
        "2.Despite Ujjivan Financial Services' low sales, its market capitalization is relatively higher compared to the absence of sales. This could be due to factors other than quarterly sales, such as profitability, growth prospects, or investor sentiment, influencing the company's market valuation."
      ],
      "metadata": {
        "id": "FzY_FHdkeFut"
      }
    },
    {
      "cell_type": "code",
      "source": [
        "# Calculate average sales\n",
        "average_sales = Data['Sales_Qtr_Crore'].mean()\n",
        "\n",
        "# Print the average sales\n",
        "print(\"Average Quarterly Sales: {:.2f} Crores\".format(average_sales))\n"
      ],
      "metadata": {
        "colab": {
          "base_uri": "https://localhost:8080/"
        },
        "id": "ELgCV5iUeqPF",
        "outputId": "b84c6ace-2735-4ef0-ba50-6b2947c10b3c"
      },
      "execution_count": null,
      "outputs": [
        {
          "output_type": "stream",
          "name": "stdout",
          "text": [
            "Average Quarterly Sales: 3815.97 Crores\n"
          ]
        }
      ]
    },
    {
      "cell_type": "markdown",
      "source": [
        "The average quarterly sales across the dataset amount to approximately ₹3,815.97 Crores.\n",
        "\n",
        "In summary, the average quarterly sales figure acts as a reference point for companies and investors, aiding in performance evaluation, strategic planning, and investment decisions. Companies can use this information to set realistic targets, optimize their operations, and adapt to market dynamics, ensuring sustainable growth and competitiveness."
      ],
      "metadata": {
        "id": "U015zMvHfOtZ"
      }
    },
    {
      "cell_type": "code",
      "source": [
        "# Sort the DataFrame by market capitalization in descending order and select the top companies\n",
        "top_companies = Data.sort_values(by='Mar_Cap_Crore', ascending=False).head(10)\n",
        "\n",
        "# Print the top companies with the highest market capitalization\n",
        "print(\"Top Companies with Highest Market Capitalization:\")\n",
        "print(top_companies[['Name', 'Mar_Cap_Crore']])\n"
      ],
      "metadata": {
        "colab": {
          "base_uri": "https://localhost:8080/"
        },
        "id": "wZuwYeoxf3oU",
        "outputId": "d200fbe4-62c2-46c5-d8b2-db63db87e25f"
      },
      "execution_count": null,
      "outputs": [
        {
          "output_type": "stream",
          "name": "stdout",
          "text": [
            "Top Companies with Highest Market Capitalization:\n",
            "             Name  Mar_Cap_Crore\n",
            "0  Reliance Inds.      583436.72\n",
            "1             TCS      563709.84\n",
            "2       HDFC Bank      482953.59\n",
            "3             ITC      320985.27\n",
            "4         H D F C      289497.37\n",
            "5  Hind. Unilever      288265.26\n",
            "6   Maruti Suzuki      263493.81\n",
            "7         Infosys      248320.35\n",
            "8         O N G C      239981.50\n",
            "9  St Bk of India      232763.33\n"
          ]
        }
      ]
    },
    {
      "cell_type": "markdown",
      "source": [
        "The identified top companies with the highest market capitalization represent the market leaders in the dataset. Here are the key insights derived from this information:\n",
        "\n",
        "1.Dominance of Industry Giants: Companies like Reliance Industries, TCS, HDFC Bank, and ITC, among others, showcase a substantial market presence and dominance. These organizations often lead their respective industries and are pivotal players in the national and international markets.\n",
        "\n",
        "2.Diverse Sectors: The top companies span various sectors, including telecommunications, banking, FMCG (Fast-Moving Consumer Goods), and technology. This diversification indicates the breadth and depth of the market, with significant players emerging in multiple sectors of the economy.\n",
        "\n",
        "3.Investor Attractiveness: These companies are generally considered attractive investments for many investors due to their stability, profitability, and potential for long-term growth. Investors often look for market leaders when making investment decisions, as these companies tend to withstand market fluctuations better than their counterparts.\n",
        "\n",
        "In summary, the presence of these top companies with high market capitalization values signifies not only their individual success but also their collective impact on the economy."
      ],
      "metadata": {
        "id": "bqMZ-E0Vg_im"
      }
    },
    {
      "cell_type": "code",
      "source": [
        "# Define a threshold for exceptionally high sales (you can adjust this threshold based on your dataset)\n",
        "threshold_sales = 50000  # For example, considering sales above 5000 Crores as exceptionally high\n",
        "\n",
        "# Filter companies with exceptionally high sales\n",
        "high_sales_companies = Data[Data['Sales_Qtr_Crore'] > threshold_sales]\n",
        "\n",
        "# Print the companies with exceptionally high sales\n",
        "print(\"Companies with Exceptionally High Sales (Above {} Crores):\".format(threshold_sales))\n",
        "print(high_sales_companies[['Name', 'Sales_Qtr_Crore']])\n"
      ],
      "metadata": {
        "colab": {
          "base_uri": "https://localhost:8080/"
        },
        "id": "mp0tsFGciAiA",
        "outputId": "a978d135-547b-4c88-b5e3-008b709ecc9f"
      },
      "execution_count": null,
      "outputs": [
        {
          "output_type": "stream",
          "name": "stdout",
          "text": [
            "Companies with Exceptionally High Sales (Above 50000 Crores):\n",
            "              Name  Sales_Qtr_Crore\n",
            "0   Reliance Inds.         99810.00\n",
            "9   St Bk of India         57014.08\n",
            "14         I O C L        110666.93\n",
            "23     Tata Motors         74156.07\n",
            "27         B P C L         60616.36\n",
            "54         H P C L         57474.25\n"
          ]
        }
      ]
    },
    {
      "cell_type": "markdown",
      "source": [
        "The identified companies with exceptionally high sales, each exceeding 50,000 Crores in a single quarter, represent exceptional revenue performance within the dataset. Here are the key insights derived from this information:\n",
        "\n",
        "Reliance Industries: Reliance Industries leads the pack with quarterly sales of 99,810.00 Crores, showcasing its dominance in the market. This remarkable sales figure solidifies Reliance Industries' position as a market leader with substantial revenue generation capabilities.\n",
        "\n",
        "Financial Sector Powerhouses: State Bank of India (St Bk of India) also stands out with quarterly sales of 57,014.08 Crores, emphasizing its significant role in the financial sector. Financial institutions with such high sales often indicate substantial customer transactions and financial activities.\n",
        "\n",
        "Energy Sector Giants: Indian Oil Corporation Limited (I O C L), Bharat Petroleum Corporation Limited (B P C L), and Hindustan Petroleum Corporation Limited (H P C L) are key players in the energy sector. Their quarterly sales figures of 110,666.93 Crores, 60,616.36 Crores, and 57,474.25 Crores respectively reflect the substantial revenue generated in this industry. These companies play pivotal roles in fuel supply, reflecting the nation's energy consumption.\n",
        "\n",
        "Automobile Industry: Tata Motors, a leading automobile manufacturer, demonstrates robust sales with figures reaching 74,156.07 Crores. This figure underscores the demand for their vehicles and their extensive market presence.\n",
        "\n",
        "\n",
        "\n",
        "Consumer Trends: These figures can also reflect consumer behaviors and preferences, providing insights into the products and services that are in high demand. Businesses often use such data to align their strategies with market needs.\n",
        "\n",
        "\n",
        "\n",
        "\n",
        "\n",
        "\n"
      ],
      "metadata": {
        "id": "TDG_uJGMv9vS"
      }
    },
    {
      "cell_type": "markdown",
      "source": [
        "Conclusion:\n",
        "A comprehensive analysis of market capitalization and quarterly sales data provides valuable insights into the competitive landscape. By understanding these key metrics and meaningful relationships, companies can make informed decisions, refine their strategies, and stay competitive in the dynamic market environment."
      ],
      "metadata": {
        "id": "UJcjz5nwyPUY"
      }
    }
  ]
}